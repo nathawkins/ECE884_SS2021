{
 "cells": [
  {
   "cell_type": "code",
   "execution_count": null,
   "metadata": {
    "id": "bUnQU0pbVoMy"
   },
   "outputs": [],
   "source": [
    "import pandas as pd\n",
    "import nltk\n",
    "import string\n",
    "import re\n",
    "import numpy as np"
   ]
  },
  {
   "cell_type": "code",
   "execution_count": null,
   "metadata": {
    "id": "0OxB07igVcB4"
   },
   "outputs": [],
   "source": [
    "data_dir   = \"../data/\"\n",
    "kaggle_dir = data_dir + \"Kaggle/\"\n",
    "print(kaggle_dir)"
   ]
  },
  {
   "cell_type": "code",
   "execution_count": null,
   "metadata": {
    "colab": {
     "base_uri": "https://localhost:8080/",
     "height": 204
    },
    "executionInfo": {
     "elapsed": 3175,
     "status": "ok",
     "timestamp": 1616523771095,
     "user": {
      "displayName": "Nat Hawkins",
      "photoUrl": "https://lh3.googleusercontent.com/a-/AOh14GjXPV2QclQMau5QR4-Eat2Eo6QE-LAPydToClnK=s64",
      "userId": "15612412735832065156"
     },
     "user_tz": 240
    },
    "id": "dOdeIZpwWwrM",
    "outputId": "98dcbb6d-881f-40ea-f6a9-50c2cae15f57"
   },
   "outputs": [
    {
     "data": {
      "text/html": [
       "<div>\n",
       "<style scoped>\n",
       "    .dataframe tbody tr th:only-of-type {\n",
       "        vertical-align: middle;\n",
       "    }\n",
       "\n",
       "    .dataframe tbody tr th {\n",
       "        vertical-align: top;\n",
       "    }\n",
       "\n",
       "    .dataframe thead th {\n",
       "        text-align: right;\n",
       "    }\n",
       "</style>\n",
       "<table border=\"1\" class=\"dataframe\">\n",
       "  <thead>\n",
       "    <tr style=\"text-align: right;\">\n",
       "      <th></th>\n",
       "      <th>title</th>\n",
       "      <th>text</th>\n",
       "      <th>subject</th>\n",
       "      <th>date</th>\n",
       "    </tr>\n",
       "  </thead>\n",
       "  <tbody>\n",
       "    <tr>\n",
       "      <th>0</th>\n",
       "      <td>As U.S. budget fight looms, Republicans flip t...</td>\n",
       "      <td>WASHINGTON (Reuters) - The head of a conservat...</td>\n",
       "      <td>politicsNews</td>\n",
       "      <td>December 31, 2017</td>\n",
       "    </tr>\n",
       "    <tr>\n",
       "      <th>1</th>\n",
       "      <td>U.S. military to accept transgender recruits o...</td>\n",
       "      <td>WASHINGTON (Reuters) - Transgender people will...</td>\n",
       "      <td>politicsNews</td>\n",
       "      <td>December 29, 2017</td>\n",
       "    </tr>\n",
       "    <tr>\n",
       "      <th>2</th>\n",
       "      <td>Senior U.S. Republican senator: 'Let Mr. Muell...</td>\n",
       "      <td>WASHINGTON (Reuters) - The special counsel inv...</td>\n",
       "      <td>politicsNews</td>\n",
       "      <td>December 31, 2017</td>\n",
       "    </tr>\n",
       "    <tr>\n",
       "      <th>3</th>\n",
       "      <td>FBI Russia probe helped by Australian diplomat...</td>\n",
       "      <td>WASHINGTON (Reuters) - Trump campaign adviser ...</td>\n",
       "      <td>politicsNews</td>\n",
       "      <td>December 30, 2017</td>\n",
       "    </tr>\n",
       "    <tr>\n",
       "      <th>4</th>\n",
       "      <td>Trump wants Postal Service to charge 'much mor...</td>\n",
       "      <td>SEATTLE/WASHINGTON (Reuters) - President Donal...</td>\n",
       "      <td>politicsNews</td>\n",
       "      <td>December 29, 2017</td>\n",
       "    </tr>\n",
       "  </tbody>\n",
       "</table>\n",
       "</div>"
      ],
      "text/plain": [
       "                                               title  ...                date\n",
       "0  As U.S. budget fight looms, Republicans flip t...  ...  December 31, 2017 \n",
       "1  U.S. military to accept transgender recruits o...  ...  December 29, 2017 \n",
       "2  Senior U.S. Republican senator: 'Let Mr. Muell...  ...  December 31, 2017 \n",
       "3  FBI Russia probe helped by Australian diplomat...  ...  December 30, 2017 \n",
       "4  Trump wants Postal Service to charge 'much mor...  ...  December 29, 2017 \n",
       "\n",
       "[5 rows x 4 columns]"
      ]
     },
     "execution_count": 3,
     "metadata": {
      "tags": []
     },
     "output_type": "execute_result"
    }
   ],
   "source": [
    "kaggle_true_df = pd.read_csv(kaggle_dir + \"True.csv.zip\", compression = \"zip\")\n",
    "kaggle_true_df.head()"
   ]
  },
  {
   "cell_type": "code",
   "execution_count": null,
   "metadata": {
    "colab": {
     "base_uri": "https://localhost:8080/"
    },
    "executionInfo": {
     "elapsed": 358,
     "status": "ok",
     "timestamp": 1616523773973,
     "user": {
      "displayName": "Nat Hawkins",
      "photoUrl": "https://lh3.googleusercontent.com/a-/AOh14GjXPV2QclQMau5QR4-Eat2Eo6QE-LAPydToClnK=s64",
      "userId": "15612412735832065156"
     },
     "user_tz": 240
    },
    "id": "wpYIk5UsUzWv",
    "outputId": "b9327f24-adb3-418c-eb6a-14bb2aa8b2a7"
   },
   "outputs": [
    {
     "data": {
      "text/plain": [
       "(21417, 4)"
      ]
     },
     "execution_count": 4,
     "metadata": {
      "tags": []
     },
     "output_type": "execute_result"
    }
   ],
   "source": [
    "kaggle_true_df.shape"
   ]
  },
  {
   "cell_type": "code",
   "execution_count": null,
   "metadata": {
    "colab": {
     "base_uri": "https://localhost:8080/",
     "height": 204
    },
    "executionInfo": {
     "elapsed": 2557,
     "status": "ok",
     "timestamp": 1616523786155,
     "user": {
      "displayName": "Nat Hawkins",
      "photoUrl": "https://lh3.googleusercontent.com/a-/AOh14GjXPV2QclQMau5QR4-Eat2Eo6QE-LAPydToClnK=s64",
      "userId": "15612412735832065156"
     },
     "user_tz": 240
    },
    "id": "szdj_grCWzYP",
    "outputId": "9afae622-1289-4a50-96f5-a5b4d111fcad"
   },
   "outputs": [
    {
     "data": {
      "text/html": [
       "<div>\n",
       "<style scoped>\n",
       "    .dataframe tbody tr th:only-of-type {\n",
       "        vertical-align: middle;\n",
       "    }\n",
       "\n",
       "    .dataframe tbody tr th {\n",
       "        vertical-align: top;\n",
       "    }\n",
       "\n",
       "    .dataframe thead th {\n",
       "        text-align: right;\n",
       "    }\n",
       "</style>\n",
       "<table border=\"1\" class=\"dataframe\">\n",
       "  <thead>\n",
       "    <tr style=\"text-align: right;\">\n",
       "      <th></th>\n",
       "      <th>title</th>\n",
       "      <th>text</th>\n",
       "      <th>subject</th>\n",
       "      <th>date</th>\n",
       "    </tr>\n",
       "  </thead>\n",
       "  <tbody>\n",
       "    <tr>\n",
       "      <th>0</th>\n",
       "      <td>Donald Trump Sends Out Embarrassing New Year’...</td>\n",
       "      <td>Donald Trump just couldn t wish all Americans ...</td>\n",
       "      <td>News</td>\n",
       "      <td>December 31, 2017</td>\n",
       "    </tr>\n",
       "    <tr>\n",
       "      <th>1</th>\n",
       "      <td>Drunk Bragging Trump Staffer Started Russian ...</td>\n",
       "      <td>House Intelligence Committee Chairman Devin Nu...</td>\n",
       "      <td>News</td>\n",
       "      <td>December 31, 2017</td>\n",
       "    </tr>\n",
       "    <tr>\n",
       "      <th>2</th>\n",
       "      <td>Sheriff David Clarke Becomes An Internet Joke...</td>\n",
       "      <td>On Friday, it was revealed that former Milwauk...</td>\n",
       "      <td>News</td>\n",
       "      <td>December 30, 2017</td>\n",
       "    </tr>\n",
       "    <tr>\n",
       "      <th>3</th>\n",
       "      <td>Trump Is So Obsessed He Even Has Obama’s Name...</td>\n",
       "      <td>On Christmas day, Donald Trump announced that ...</td>\n",
       "      <td>News</td>\n",
       "      <td>December 29, 2017</td>\n",
       "    </tr>\n",
       "    <tr>\n",
       "      <th>4</th>\n",
       "      <td>Pope Francis Just Called Out Donald Trump Dur...</td>\n",
       "      <td>Pope Francis used his annual Christmas Day mes...</td>\n",
       "      <td>News</td>\n",
       "      <td>December 25, 2017</td>\n",
       "    </tr>\n",
       "  </tbody>\n",
       "</table>\n",
       "</div>"
      ],
      "text/plain": [
       "                                               title  ...               date\n",
       "0   Donald Trump Sends Out Embarrassing New Year’...  ...  December 31, 2017\n",
       "1   Drunk Bragging Trump Staffer Started Russian ...  ...  December 31, 2017\n",
       "2   Sheriff David Clarke Becomes An Internet Joke...  ...  December 30, 2017\n",
       "3   Trump Is So Obsessed He Even Has Obama’s Name...  ...  December 29, 2017\n",
       "4   Pope Francis Just Called Out Donald Trump Dur...  ...  December 25, 2017\n",
       "\n",
       "[5 rows x 4 columns]"
      ]
     },
     "execution_count": 5,
     "metadata": {
      "tags": []
     },
     "output_type": "execute_result"
    }
   ],
   "source": [
    "kaggle_fake_df = pd.read_csv(kaggle_dir + \"Fake.csv.zip\", compression = \"zip\")\n",
    "kaggle_fake_df.head()"
   ]
  },
  {
   "cell_type": "code",
   "execution_count": null,
   "metadata": {
    "colab": {
     "base_uri": "https://localhost:8080/"
    },
    "executionInfo": {
     "elapsed": 220,
     "status": "ok",
     "timestamp": 1616523789860,
     "user": {
      "displayName": "Nat Hawkins",
      "photoUrl": "https://lh3.googleusercontent.com/a-/AOh14GjXPV2QclQMau5QR4-Eat2Eo6QE-LAPydToClnK=s64",
      "userId": "15612412735832065156"
     },
     "user_tz": 240
    },
    "id": "btzTdyNOU1C5",
    "outputId": "d40b934a-abec-4f70-f9dd-792ce49de844"
   },
   "outputs": [
    {
     "data": {
      "text/plain": [
       "(23481, 4)"
      ]
     },
     "execution_count": 6,
     "metadata": {
      "tags": []
     },
     "output_type": "execute_result"
    }
   ],
   "source": [
    "kaggle_fake_df.shape"
   ]
  },
  {
   "cell_type": "code",
   "execution_count": null,
   "metadata": {
    "id": "93jKIQg-W0FR"
   },
   "outputs": [],
   "source": [
    "def remove_unencoded_text(text):\n",
    "    \"\"\"\n",
    "    Removes characters that are not UTF-8 encodable.\n",
    "    \"\"\"\n",
    "    return \"\".join([i if ord(i) < 128 else \"\" for i in text])\n",
    "\n",
    "def is_allowed_word(word, stopwords, min_word_len):\n",
    "    \"\"\"\n",
    "    Checks if word is allowed based on inclusion in stopwords and length.\n",
    "    \"\"\"\n",
    "    stopwords_allowed = word not in stopwords\n",
    "    length_allowed = len(word) >= min_word_len\n",
    "    return stopwords_allowed and length_allowed\n",
    "\n",
    "def preprocess(text, stopwords=set(nltk.corpus.stopwords.words(\"english\")),\n",
    "               stem=True, lemmatize=False, keep_alt_forms=False, min_word_len=1):\n",
    "    '''\n",
    "    Standardized preprocessing of a line of text.\n",
    "    '''\n",
    "\n",
    "    # remove non utf-8 characters\n",
    "    text = remove_unencoded_text(text)\n",
    "\n",
    "    # remove punctuation\n",
    "    text = text.translate(str.maketrans(\"\", \"\", string.punctuation))\n",
    "\n",
    "    # convert all whitespace to spaces for splitting\n",
    "    whitespace_pattern = re.compile(r\"\\s+\")\n",
    "    text = re.sub(whitespace_pattern, \" \", text)\n",
    "\n",
    "    # lowercase the input\n",
    "    text = text.lower()\n",
    "\n",
    "    # split into words\n",
    "    words = text.split(\" \")\n",
    "\n",
    "    # stem and/or lemmatize words\n",
    "    # filtering stopwords, numbers, and word lengths as required\n",
    "    stemmer = nltk.stem.porter.PorterStemmer()\n",
    "    lemmatizer = nltk.stem.WordNetLemmatizer()\n",
    "\n",
    "    if stem and lemmatize:\n",
    "        words = [\n",
    "            [word, stemmer.stem(word), lemmatizer.lemmatize(word)]\n",
    "            for word in words if is_allowed_word(\n",
    "                word, stopwords, min_word_len)]\n",
    "    elif stem:\n",
    "        words = [\n",
    "            [word, stemmer.stem(word)]\n",
    "            for word in words if is_allowed_word(\n",
    "                word, stopwords, min_word_len)]\n",
    "    elif lemmatize:\n",
    "        words = [\n",
    "            [word, lemmatizer.lemmatize(word)]\n",
    "            for word in words if is_allowed_word(\n",
    "                word, stopwords, min_word_len)]\n",
    "    else:\n",
    "        words = [\n",
    "            word for word in words if is_allowed_word(\n",
    "                word, stopwords, min_word_len)]\n",
    "\n",
    "    if stem or lemmatize:\n",
    "        if keep_alt_forms:\n",
    "            # return both original and stemmed/lemmatized words\n",
    "            # as long as stems/lemmas are unique\n",
    "            words = [w for word in words for w in set(word)]\n",
    "        else:\n",
    "            # return only requested stems/lemmas\n",
    "            # if both stemming and lemmatizing, return only lemmas\n",
    "            words = list(zip(*words))[-1]\n",
    "\n",
    "    return \" \".join(words)"
   ]
  },
  {
   "cell_type": "code",
   "execution_count": null,
   "metadata": {
    "id": "M33wCKWPX0PD"
   },
   "outputs": [],
   "source": [
    "labels = np.append(np.ones(len(kaggle_true_df)), np.zeros(len(kaggle_fake_df)), axis = 0) # 1 - true news, 0 - fake news\n",
    "aggregate_df = kaggle_true_df.append(kaggle_fake_df)\n",
    "preprocessed_text = []\n",
    "for i in range(len(labels)):\n",
    "    text_ = aggregate_df.iloc[i,:2].values\n",
    "    try:\n",
    "        title = preprocess(text_[0])\n",
    "    except:\n",
    "        continue ## No title\n",
    "    try:\n",
    "        body = preprocess(text_[1])\n",
    "    except:\n",
    "        continue ## No body\n",
    "    preprocessed_text.append([title, body, labels[i]])"
   ]
  },
  {
   "cell_type": "code",
   "execution_count": null,
   "metadata": {
    "id": "-vJRotB7cEv9"
   },
   "outputs": [],
   "source": [
    "processed_dataframe = pd.DataFrame.from_records(preprocessed_text, columns = [\"Title\", \"Body\", \"Label\"])"
   ]
  },
  {
   "cell_type": "code",
   "execution_count": null,
   "metadata": {
    "id": "yUX3KON0cGcp"
   },
   "outputs": [],
   "source": [
    "processed_dataframe.to_csv(data_dir+\"preprocessed_text_w_labels.csv\")"
   ]
  }
 ],
 "metadata": {
  "colab": {
   "collapsed_sections": [],
   "name": "2 - Text Preprocessing.ipynb",
   "provenance": []
  },
  "kernelspec": {
   "display_name": "Python 3",
   "language": "python",
   "name": "python3"
  },
  "language_info": {
   "codemirror_mode": {
    "name": "ipython",
    "version": 3
   },
   "file_extension": ".py",
   "mimetype": "text/x-python",
   "name": "python",
   "nbconvert_exporter": "python",
   "pygments_lexer": "ipython3",
   "version": "3.8.5"
  }
 },
 "nbformat": 4,
 "nbformat_minor": 4
}
