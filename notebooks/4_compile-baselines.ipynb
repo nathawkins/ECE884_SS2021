{
 "cells": [
  {
   "cell_type": "code",
   "execution_count": null,
   "metadata": {},
   "outputs": [],
   "source": [
    "import os\n",
    "import json\n",
    "import pandas as pd"
   ]
  },
  {
   "cell_type": "code",
   "execution_count": null,
   "metadata": {},
   "outputs": [],
   "source": [
    "def load_baselines(criteria = []):\n",
    "    baseline_results = [os.path.join(\"../results/\", f) for f in os.listdir(\"../results/\") if any(x in f for x in criteria)]\n",
    "    \n",
    "    baselines = []\n",
    "    for fname in baseline_results:\n",
    "        baselines.append(json.load(open(fname, \"r\")))\n",
    "        \n",
    "    for i in range(len(baselines)):\n",
    "        if i == 0:\n",
    "            continue\n",
    "        baselines[0].update(baselines[i])\n",
    "\n",
    "    baseline_df = pd.DataFrame.from_records(baselines[0]).T.round(3)\n",
    "    baseline_df.sort_values(by = \"accuracy\", ascending = False, inplace = True)\n",
    "    \n",
    "    return baseline_df"
   ]
  },
  {
   "cell_type": "code",
   "execution_count": null,
   "metadata": {},
   "outputs": [],
   "source": [
    "load_baselines(criteria = [\"body\"]).to_csv(\"../results/BODY.csv\")"
   ]
  },
  {
   "cell_type": "code",
   "execution_count": null,
   "metadata": {},
   "outputs": [],
   "source": [
    "load_baselines(criteria = [\"concat\"]).to_csv(\"../results/CONCATENATE.csv\")"
   ]
  },
  {
   "cell_type": "code",
   "execution_count": null,
   "metadata": {},
   "outputs": [],
   "source": [
    "load_baselines(criteria = [\"avg\"]).to_csv(\"../results/AVG.csv\")"
   ]
  },
  {
   "cell_type": "code",
   "execution_count": null,
   "metadata": {},
   "outputs": [],
   "source": [
    "load_baselines(criteria = [\"title\"]).to_csv(\"../results/TITLE.csv\")"
   ]
  }
 ],
 "metadata": {
  "kernelspec": {
   "display_name": "Python 3",
   "language": "python",
   "name": "python3"
  },
  "language_info": {
   "codemirror_mode": {
    "name": "ipython",
    "version": 3
   },
   "file_extension": ".py",
   "mimetype": "text/x-python",
   "name": "python",
   "nbconvert_exporter": "python",
   "pygments_lexer": "ipython3",
   "version": "3.8.5"
  }
 },
 "nbformat": 4,
 "nbformat_minor": 4
}
